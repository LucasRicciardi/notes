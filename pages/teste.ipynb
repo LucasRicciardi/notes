{
 "cells": [
  {
   "cell_type": "markdown",
   "metadata": {},
   "source": [
    "# Teste\n",
    "\n",
    "# Este é um note de teste para visualização no Github\n",
    "\n",
    "Lorem ipsum dolor sit amet, consectetur adipiscing elit. Phasellus maximus malesuada facilisis. Fusce scelerisque mauris libero. Aenean elementum quis ex sed blandit. Sed commodo vitae mi nec porta. Aliquam interdum mi at consectetur finibus. Curabitur ante quam, mattis in posuere quis, dapibus vel felis. Maecenas congue nunc arcu, pretium maximus enim consequat vel.\n",
    "\n",
    "Phasellus a pharetra lorem. Curabitur sollicitudin tellus ut sagittis hendrerit. Nam ullamcorper metus ut urna euismod hendrerit. Quisque et nisl convallis, fringilla ante non, porta risus. Sed efficitur euismod ligula nec efficitur. Integer viverra non leo vitae volutpat. Pellentesque lorem urna, rhoncus in consectetur in, fringilla quis libero. Pellentesque habitant morbi tristique senectus et netus et malesuada fames ac turpis egestas. Etiam id auctor lorem. Mauris sed lacinia urna, non mattis nisl. Sed nulla ex, cursus ut nulla vitae, sagittis porta quam. Aliquam facilisis lorem eget odio tempus, sit amet cursus nibh efficitur. Aliquam id eros quis velit dapibus commodo ac non neque.\n",
    "\n"
   ]
  },
  {
   "cell_type": "code",
   "execution_count": 10,
   "metadata": {},
   "outputs": [
    {
     "data": {
      "image/png": "[encoded data removed]",
      "text/plain": [
       "<Figure size 432x288 with 1 Axes>"
      ]
     },
     "metadata": {
      "needs_background": "light"
     },
     "output_type": "display_data"
    }
   ],
   "source": [
    "import numpy as np\n",
    "\n",
    "import matplotlib.pyplot as plt\n",
    "\n",
    "collection = np.random.normal(int(10e5), int(10e2), int(10e5))\n",
    "\n",
    "plt.hist(collection)\n",
    "plt.show()"
   ]
  },
  {
   "cell_type": "code",
   "execution_count": null,
   "metadata": {},
   "outputs": [],
   "source": []
  },
  {
   "cell_type": "code",
   "execution_count": null,
   "metadata": {},
   "outputs": [],
   "source": []
  }
 ],
 "metadata": {
  "kernelspec": {
   "display_name": "Python 3",
   "language": "python",
   "name": "python3"
  },
  "language_info": {
   "codemirror_mode": {
    "name": "ipython",
    "version": 3
   },
   "file_extension": ".py",
   "mimetype": "text/x-python",
   "name": "python",
   "nbconvert_exporter": "python",
   "pygments_lexer": "ipython3",
   "version": "3.6.7"
  }
 },
 "nbformat": 4,
 "nbformat_minor": 2
}
